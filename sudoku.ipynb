{
 "cells": [
  {
   "cell_type": "code",
   "execution_count": 92,
   "metadata": {},
   "outputs": [],
   "source": [
    "s = [[7, 8, 0, 4, 0, 0, 1, 2, 0],\n",
    "    [6, 0, 0, 0, 7, 5, 0, 0, 9],\n",
    "    [0, 0, 0, 6, 0, 1, 0, 7, 8],\n",
    "    [0, 0, 7, 0, 4, 0, 2, 6, 0],\n",
    "    [0, 0, 1, 0, 5, 0, 9, 3, 0],\n",
    "    [9, 0, 4, 0, 6, 0, 0, 0, 5],\n",
    "    [0, 7, 0, 3, 0, 0, 0, 1, 2],\n",
    "    [1, 2, 0, 0, 0, 7, 4, 0, 0],\n",
    "    [0, 4, 9, 2, 0, 6, 0, 0, 7]]"
   ]
  },
  {
   "cell_type": "code",
   "execution_count": 86,
   "metadata": {},
   "outputs": [],
   "source": [
    "import copy\n",
    "import time"
   ]
  },
  {
   "cell_type": "code",
   "execution_count": 83,
   "metadata": {},
   "outputs": [],
   "source": [
    "class Sudoku:\n",
    "    \n",
    "    def __init__(self,s):\n",
    "        self.S = copy.deepcopy(s) \n",
    "    \n",
    "    def pre(self):\n",
    "        self.empty = []\n",
    "        for i in range(9):\n",
    "            for j in range(9):\n",
    "                if self.S[i][j] == 0:\n",
    "                    self.empty.append((i,j))\n",
    "#         self.empty.reverse()\n",
    "                \n",
    "        \n",
    "    def find(self,i1,j1,k):\n",
    "        for i in range(9):\n",
    "            if i != i1:\n",
    "                if self.S[i][j1] == k:\n",
    "                    return 0\n",
    "            if i !=  j1:\n",
    "                if self.S[i1][i] == k:\n",
    "                    return 0\n",
    "        i_l = (i1//3)*3\n",
    "        j_l = (j1//3)*3\n",
    "        for i in range(i_l,i_l+3):\n",
    "            for j in range(j_l,j_l+3):\n",
    "                if i!=i1 and j!=j1:\n",
    "                    if self.S[i][j] == k:\n",
    "                        return 0\n",
    "        return 1\n",
    "    \n",
    "    def print_(self):\n",
    "        for i in range(9):\n",
    "            print(self.S[i])\n",
    "            \n",
    "    \n",
    "    def fit(self):\n",
    "        self.pre()\n",
    "        return self.solve()\n",
    "    \n",
    "    def solve(self):\n",
    "        if len(self.empty) == 0:\n",
    "            return True\n",
    "        (i,j) = self.empty[0]\n",
    "        \n",
    "        if i == None:\n",
    "            return True\n",
    "        else:\n",
    "            self.empty.remove((i,j))\n",
    "            \n",
    "        for k in range(1,10):\n",
    "            if self.find(i,j,k) == 1:\n",
    "                self.S[i][j] = k\n",
    "                if self.solve():\n",
    "                    break\n",
    "                else:\n",
    "                    self.S[i][j] = 0\n",
    "    \n",
    "        if self.S[i][j] == 0 :\n",
    "            self.empty.append((i,j))\n",
    "            return False\n",
    "                    \n",
    "        \n",
    "            \n",
    "        return True      \n",
    "    "
   ]
  },
  {
   "cell_type": "code",
   "execution_count": 93,
   "metadata": {},
   "outputs": [],
   "source": [
    "S = Sudoku(s)"
   ]
  },
  {
   "cell_type": "code",
   "execution_count": 94,
   "metadata": {},
   "outputs": [
    {
     "name": "stdout",
     "output_type": "stream",
     "text": [
      "[7, 8, 5, 4, 3, 9, 1, 2, 6]\n",
      "[6, 1, 2, 8, 7, 5, 3, 4, 9]\n",
      "[4, 9, 3, 6, 2, 1, 5, 7, 8]\n",
      "[8, 5, 7, 9, 4, 3, 2, 6, 1]\n",
      "[2, 6, 1, 7, 5, 8, 9, 3, 4]\n",
      "[9, 3, 4, 1, 6, 2, 7, 8, 5]\n",
      "[5, 7, 8, 3, 9, 4, 6, 1, 2]\n",
      "[1, 2, 6, 5, 8, 7, 4, 9, 3]\n",
      "[3, 4, 9, 2, 1, 6, 8, 5, 7]\n",
      "Wall time: 80.1 ms\n"
     ]
    }
   ],
   "source": [
    "%%time\n",
    "S.fit()\n",
    "S.print_()\n",
    "    "
   ]
  },
  {
   "cell_type": "code",
   "execution_count": 95,
   "metadata": {},
   "outputs": [
    {
     "name": "stdout",
     "output_type": "stream",
     "text": [
      "[1, 2, 3]\n",
      "[2, 3]\n",
      "[3]\n"
     ]
    }
   ],
   "source": [
    "a = [1,2,3]\n",
    "print(a)\n",
    "a.pop(0)\n",
    "print(a)\n",
    "a.pop(0)\n",
    "print(a)"
   ]
  },
  {
   "cell_type": "code",
   "execution_count": null,
   "metadata": {},
   "outputs": [],
   "source": []
  }
 ],
 "metadata": {
  "kernelspec": {
   "display_name": "Python 3",
   "language": "python",
   "name": "python3"
  },
  "language_info": {
   "codemirror_mode": {
    "name": "ipython",
    "version": 3
   },
   "file_extension": ".py",
   "mimetype": "text/x-python",
   "name": "python",
   "nbconvert_exporter": "python",
   "pygments_lexer": "ipython3",
   "version": "3.8.5"
  }
 },
 "nbformat": 4,
 "nbformat_minor": 4
}
