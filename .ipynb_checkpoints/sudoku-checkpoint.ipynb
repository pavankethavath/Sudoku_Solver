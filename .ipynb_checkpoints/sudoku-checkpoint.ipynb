{
 "cells": [
  {
   "cell_type": "code",
   "execution_count": 1,
   "metadata": {},
   "outputs": [],
   "source": [
    "s = [\n",
    "    [7, 8, 0, 4, 0, 0, 1, 2, 0],\n",
    "    [6, 0, 0, 0, 7, 5, 0, 0, 9],\n",
    "    [0, 0, 0, 6, 0, 1, 0, 7, 8],\n",
    "    [0, 0, 7, 0, 4, 0, 2, 6, 0],\n",
    "    [0, 0, 1, 0, 5, 0, 9, 3, 0],\n",
    "    [9, 0, 4, 0, 6, 0, 0, 0, 5],\n",
    "    [0, 7, 0, 3, 0, 0, 0, 1, 2],\n",
    "    [1, 2, 0, 0, 0, 7, 4, 0, 0],\n",
    "    [0, 4, 9, 2, 0, 6, 0, 0, 7]\n",
    "    ]"
   ]
  },
  {
   "cell_type": "code",
   "execution_count": 7,
   "metadata": {},
   "outputs": [],
   "source": [
    "class Sudoku:\n",
    "    \n",
    "    def __init__(self,s):\n",
    "        self.S_game = s\n",
    "    \n",
    "    def solve(self):\n",
    "        for i in range(0,len(self.S_game)):\n",
    "            print(i)\n",
    "    "
   ]
  },
  {
   "cell_type": "code",
   "execution_count": null,
   "metadata": {},
   "outputs": [],
   "source": []
  }
 ],
 "metadata": {
  "kernelspec": {
   "display_name": "Python 3",
   "language": "python",
   "name": "python3"
  },
  "language_info": {
   "codemirror_mode": {
    "name": "ipython",
    "version": 3
   },
   "file_extension": ".py",
   "mimetype": "text/x-python",
   "name": "python",
   "nbconvert_exporter": "python",
   "pygments_lexer": "ipython3",
   "version": "3.8.5"
  }
 },
 "nbformat": 4,
 "nbformat_minor": 4
}
